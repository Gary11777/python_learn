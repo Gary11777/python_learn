{
 "cells": [
  {
   "cell_type": "code",
   "execution_count": 1,
   "id": "42f48cc2-7fad-4d58-b375-7295bb87e97c",
   "metadata": {},
   "outputs": [
    {
     "name": "stdout",
     "output_type": "stream",
     "text": [
      "This is \n",
      " br in python.\n"
     ]
    }
   ],
   "source": [
    "print(\"This is \\n br in python.\")"
   ]
  },
  {
   "cell_type": "code",
   "execution_count": 2,
   "id": "de04935a-e12e-44db-b8f6-bfd281b0a738",
   "metadata": {},
   "outputs": [
    {
     "name": "stdout",
     "output_type": "stream",
     "text": [
      "This is \t br in python.\n"
     ]
    }
   ],
   "source": [
    "print(\"This is \\t br in python.\")"
   ]
  },
  {
   "cell_type": "code",
   "execution_count": 3,
   "id": "f4817213-9359-4611-bc9b-b27e0b64665b",
   "metadata": {},
   "outputs": [
    {
     "name": "stdout",
     "output_type": "stream",
     "text": [
      "This is \\ br in python.\n"
     ]
    }
   ],
   "source": [
    "print(\"This is \\\\ br in python.\")"
   ]
  },
  {
   "cell_type": "code",
   "execution_count": 4,
   "id": "c1175691-0a24-4532-8fcc-6bb3cfc463c4",
   "metadata": {},
   "outputs": [
    {
     "name": "stdout",
     "output_type": "stream",
     "text": [
      "BOLD\n"
     ]
    }
   ],
   "source": [
    "A=\"bold\"\n",
    "B=A.upper()\n",
    "print(B)"
   ]
  },
  {
   "cell_type": "code",
   "execution_count": 5,
   "id": "ae397495-2f58-4a71-a2d8-61e01631b001",
   "metadata": {},
   "outputs": [
    {
     "name": "stdout",
     "output_type": "stream",
     "text": [
      "Janet Jackson is the best\n"
     ]
    }
   ],
   "source": [
    "A='Michael Jackson is the best'\n",
    "B=A.replace('Michael','Janet')\n",
    "print(B)"
   ]
  },
  {
   "cell_type": "code",
   "execution_count": 6,
   "id": "a809a3d8-52bf-42a5-97d8-21acf7d59243",
   "metadata": {},
   "outputs": [
    {
     "data": {
      "text/plain": [
       "5"
      ]
     },
     "execution_count": 6,
     "metadata": {},
     "output_type": "execute_result"
    }
   ],
   "source": [
    "Name=\"Michael Jackson\"\n",
    "Name.find('el')"
   ]
  },
  {
   "cell_type": "code",
   "execution_count": 7,
   "id": "3da069e2-18db-4cc7-9ca4-2552c1e8b58b",
   "metadata": {},
   "outputs": [
    {
     "data": {
      "text/plain": [
       "-1"
      ]
     },
     "execution_count": 7,
     "metadata": {},
     "output_type": "execute_result"
    }
   ],
   "source": [
    "Name.find('&*D')"
   ]
  },
  {
   "cell_type": "code",
   "execution_count": 8,
   "id": "9d7b6008-c434-4220-97cc-bf33e6d605d0",
   "metadata": {},
   "outputs": [
    {
     "name": "stdout",
     "output_type": "stream",
     "text": [
      "My name is John and I am 30 years old.\n"
     ]
    }
   ],
   "source": [
    "name = \"John\"\n",
    "age = 30\n",
    "print(f\"My name is {name} and I am {age} years old.\")"
   ]
  },
  {
   "cell_type": "code",
   "execution_count": 9,
   "id": "869e74a4-13ea-44c4-9c44-721fff6052dc",
   "metadata": {},
   "outputs": [
    {
     "name": "stdout",
     "output_type": "stream",
     "text": [
      "My name is {name} and I am {age} years old.\n"
     ]
    }
   ],
   "source": [
    "print(\"My name is {name} and I am {age} years old.\")"
   ]
  },
  {
   "cell_type": "code",
   "execution_count": 10,
   "id": "7b5d3bb7-39ed-4b16-9a3f-2e88d2fe4c1e",
   "metadata": {},
   "outputs": [
    {
     "name": "stdout",
     "output_type": "stream",
     "text": [
      "Regular String: C:\n",
      "ew_folder\f",
      "ile.txt\n"
     ]
    }
   ],
   "source": [
    "regular_string = \"C:\\new_folder\\file.txt\"\n",
    "print(\"Regular String:\", regular_string)"
   ]
  },
  {
   "cell_type": "code",
   "execution_count": 11,
   "id": "fe576b61-8bc1-4d91-8284-a84234f82c71",
   "metadata": {},
   "outputs": [
    {
     "name": "stdout",
     "output_type": "stream",
     "text": [
      "Raw String: C:\\new_folder\\file.txt\n"
     ]
    }
   ],
   "source": [
    "raw_string = r\"C:\\new_folder\\file.txt\"\n",
    "print(\"Raw String:\", raw_string)"
   ]
  },
  {
   "cell_type": "code",
   "execution_count": 1,
   "id": "7df6fd2a-ecd1-493b-9a24-8f5b172d7d8f",
   "metadata": {},
   "outputs": [],
   "source": [
    "release_year_dict = {\"Thriller\": \"1982\", \"Back in Black\": \"1980\", \\\n",
    "                    \"The Dark Side of the Moon\": \"1973\", \"The Bodyguard\": \"1992\", \\\n",
    "                    \"Bat Out of Hell\": \"1977\", \"Their Greatest Hits (1971-1975)\": \"1976\", \\\n",
    "                    \"Saturday Night Fever\": \"1977\", \"Rumours\": \"1977\"}"
   ]
  },
  {
   "cell_type": "code",
   "execution_count": 2,
   "id": "505cd05c-0101-43c5-a625-bb517c00ebee",
   "metadata": {},
   "outputs": [
    {
     "data": {
      "text/plain": [
       "'1982'"
      ]
     },
     "execution_count": 2,
     "metadata": {},
     "output_type": "execute_result"
    }
   ],
   "source": [
    "release_year_dict['Thriller']"
   ]
  },
  {
   "cell_type": "code",
   "execution_count": 3,
   "id": "abd671b9-d8a8-4fda-8578-3bd27746f79a",
   "metadata": {},
   "outputs": [
    {
     "data": {
      "text/plain": [
       "{'Thriller': '1982',\n",
       " 'Back in Black': '1980',\n",
       " 'The Dark Side of the Moon': '1973',\n",
       " 'The Bodyguard': '1992',\n",
       " 'Bat Out of Hell': '1977',\n",
       " 'Their Greatest Hits (1971-1975)': '1976',\n",
       " 'Saturday Night Fever': '1977',\n",
       " 'Rumours': '1977'}"
      ]
     },
     "execution_count": 3,
     "metadata": {},
     "output_type": "execute_result"
    }
   ],
   "source": [
    "release_year_dict"
   ]
  },
  {
   "cell_type": "code",
   "execution_count": 4,
   "id": "7f8efb05-f4be-4c6e-a939-285c93e4a89e",
   "metadata": {},
   "outputs": [
    {
     "data": {
      "text/plain": [
       "dict_keys(['Thriller', 'Back in Black', 'The Dark Side of the Moon', 'The Bodyguard', 'Bat Out of Hell', 'Their Greatest Hits (1971-1975)', 'Saturday Night Fever', 'Rumours'])"
      ]
     },
     "execution_count": 4,
     "metadata": {},
     "output_type": "execute_result"
    }
   ],
   "source": [
    "release_year_dict.keys()"
   ]
  },
  {
   "cell_type": "code",
   "execution_count": 5,
   "id": "e9152073-34fe-4b32-b4b1-375683298e16",
   "metadata": {},
   "outputs": [
    {
     "data": {
      "text/plain": [
       "dict_values(['1982', '1980', '1973', '1992', '1977', '1976', '1977', '1977'])"
      ]
     },
     "execution_count": 5,
     "metadata": {},
     "output_type": "execute_result"
    }
   ],
   "source": [
    "release_year_dict.values()"
   ]
  },
  {
   "cell_type": "code",
   "execution_count": 6,
   "id": "b82d0716-5219-4417-92b7-e36ad3b7dc14",
   "metadata": {},
   "outputs": [
    {
     "ename": "NameError",
     "evalue": "name 'values' is not defined",
     "output_type": "error",
     "traceback": [
      "\u001b[31m---------------------------------------------------------------------------\u001b[39m",
      "\u001b[31mNameError\u001b[39m                                 Traceback (most recent call last)",
      "\u001b[36mCell\u001b[39m\u001b[36m \u001b[39m\u001b[32mIn[6]\u001b[39m\u001b[32m, line 1\u001b[39m\n\u001b[32m----> \u001b[39m\u001b[32m1\u001b[39m \u001b[43mvalues\u001b[49m(release_year_dict)\n",
      "\u001b[31mNameError\u001b[39m: name 'values' is not defined"
     ]
    }
   ],
   "source": [
    "values(release_year_dict)"
   ]
  },
  {
   "cell_type": "code",
   "execution_count": 7,
   "id": "c96f4fa6-29bc-47c7-becc-1f7ced4173cb",
   "metadata": {},
   "outputs": [],
   "source": [
    "release_year_dict['Graduation'] = '2007'"
   ]
  },
  {
   "cell_type": "code",
   "execution_count": 8,
   "id": "b3e6d846-c978-4bfa-bce9-870101ec276d",
   "metadata": {},
   "outputs": [
    {
     "data": {
      "text/plain": [
       "'2007'"
      ]
     },
     "execution_count": 8,
     "metadata": {},
     "output_type": "execute_result"
    }
   ],
   "source": [
    "release_year_dict['Graduation']"
   ]
  },
  {
   "cell_type": "code",
   "execution_count": 9,
   "id": "d8fc9a5a-9951-4cd3-b80a-266090a05406",
   "metadata": {},
   "outputs": [
    {
     "data": {
      "text/plain": [
       "{'Thriller': '1982',\n",
       " 'Back in Black': '1980',\n",
       " 'The Dark Side of the Moon': '1973',\n",
       " 'The Bodyguard': '1992',\n",
       " 'Bat Out of Hell': '1977',\n",
       " 'Their Greatest Hits (1971-1975)': '1976',\n",
       " 'Saturday Night Fever': '1977',\n",
       " 'Rumours': '1977',\n",
       " 'Graduation': '2007'}"
      ]
     },
     "execution_count": 9,
     "metadata": {},
     "output_type": "execute_result"
    }
   ],
   "source": [
    "release_year_dict"
   ]
  },
  {
   "cell_type": "code",
   "execution_count": 10,
   "id": "be7f4e1c-c81c-4702-bfd2-6f7ce9078d5f",
   "metadata": {},
   "outputs": [],
   "source": [
    "del(release_year_dict['Thriller'])"
   ]
  },
  {
   "cell_type": "code",
   "execution_count": 11,
   "id": "1d66e857-8553-4b54-999f-f0414ffef3bb",
   "metadata": {},
   "outputs": [
    {
     "data": {
      "text/plain": [
       "{'Back in Black': '1980',\n",
       " 'The Dark Side of the Moon': '1973',\n",
       " 'The Bodyguard': '1992',\n",
       " 'Bat Out of Hell': '1977',\n",
       " 'Their Greatest Hits (1971-1975)': '1976',\n",
       " 'Saturday Night Fever': '1977',\n",
       " 'Rumours': '1977',\n",
       " 'Graduation': '2007'}"
      ]
     },
     "execution_count": 11,
     "metadata": {},
     "output_type": "execute_result"
    }
   ],
   "source": [
    "release_year_dict"
   ]
  },
  {
   "cell_type": "code",
   "execution_count": 12,
   "id": "326b6a3b-1fb7-42e7-a196-ece758f42e1b",
   "metadata": {},
   "outputs": [
    {
     "ename": "NameError",
     "evalue": "name 'release_yar_dict' is not defined",
     "output_type": "error",
     "traceback": [
      "\u001b[31m---------------------------------------------------------------------------\u001b[39m",
      "\u001b[31mNameError\u001b[39m                                 Traceback (most recent call last)",
      "\u001b[36mCell\u001b[39m\u001b[36m \u001b[39m\u001b[32mIn[12]\u001b[39m\u001b[32m, line 1\u001b[39m\n\u001b[32m----> \u001b[39m\u001b[32m1\u001b[39m \u001b[33m'\u001b[39m\u001b[33mThriller\u001b[39m\u001b[33m'\u001b[39m \u001b[38;5;129;01min\u001b[39;00m \u001b[43mrelease_yar_dict\u001b[49m\n",
      "\u001b[31mNameError\u001b[39m: name 'release_yar_dict' is not defined"
     ]
    }
   ],
   "source": [
    "'Thriller' in release_yar_dict"
   ]
  },
  {
   "cell_type": "code",
   "execution_count": 13,
   "id": "26455e4c-ce74-45ee-9679-d5607a6fd31e",
   "metadata": {},
   "outputs": [
    {
     "data": {
      "text/plain": [
       "False"
      ]
     },
     "execution_count": 13,
     "metadata": {},
     "output_type": "execute_result"
    }
   ],
   "source": [
    "'Thriller' in release_year_dict"
   ]
  },
  {
   "cell_type": "code",
   "execution_count": 14,
   "id": "48cee994-3d10-4505-a676-d6d578f9dfd6",
   "metadata": {},
   "outputs": [],
   "source": [
    "inventory ={}"
   ]
  },
  {
   "cell_type": "code",
   "execution_count": 15,
   "id": "097f89f4-8d6e-4683-846a-68f324385f42",
   "metadata": {},
   "outputs": [],
   "source": [
    "ProductNo1 = \"Mobile Phone\"\n",
    "ProductNo1_quantity = 5\n",
    "ProductNo1_price = 20000\n",
    "ProductNo1_releaseYear= 2020"
   ]
  },
  {
   "cell_type": "code",
   "execution_count": 16,
   "id": "578929b5-8684-432a-9f00-4c5d150d4ee0",
   "metadata": {},
   "outputs": [],
   "source": [
    "inventory[\"ProductNo1\"]= ProductNo1\n",
    "inventory[\"ProductNo1_quantity\"]= ProductNo1_quantity\n",
    "inventory[\"ProductNo1_price\"]= ProductNo1_price\n",
    "inventory[\"ProductNo1_releaseYear\"]=ProductNo1_releaseYear"
   ]
  },
  {
   "cell_type": "code",
   "execution_count": 17,
   "id": "d84a99a7-a9b4-40b8-8713-155498e50b01",
   "metadata": {},
   "outputs": [
    {
     "data": {
      "text/plain": [
       "{'ProductNo1': 'Mobile Phone',\n",
       " 'ProductNo1_quantity': 5,\n",
       " 'ProductNo1_price': 20000,\n",
       " 'ProductNo1_releaseYear': 2020}"
      ]
     },
     "execution_count": 17,
     "metadata": {},
     "output_type": "execute_result"
    }
   ],
   "source": [
    "inventory"
   ]
  },
  {
   "cell_type": "code",
   "execution_count": 18,
   "id": "e5249762-b1a0-4369-9718-42a438656557",
   "metadata": {},
   "outputs": [],
   "source": [
    "ProductNo2 = \"Laptop\"\n",
    "ProductNo2_quantity = 10\n",
    "ProductNo2_price = 50000\n",
    "ProductNo2_releaseYear= 2023"
   ]
  },
  {
   "cell_type": "code",
   "execution_count": 19,
   "id": "71d73664-f7fd-4cde-83aa-8a0d67102d73",
   "metadata": {},
   "outputs": [],
   "source": [
    "inventory[\"ProductNo2\"]= ProductNo2\n",
    "inventory[\"ProductNo2_quantity\"]= ProductNo2_quantity\n",
    "inventory[\"ProductNo2_price\"]= ProductNo2_price\n",
    "inventory[\"ProductNo2_releaseYear\"]=ProductNo2_releaseYear"
   ]
  },
  {
   "cell_type": "code",
   "execution_count": 20,
   "id": "34279fa0-f133-4b65-8f86-7ef551486812",
   "metadata": {},
   "outputs": [
    {
     "data": {
      "text/plain": [
       "{'ProductNo1': 'Mobile Phone',\n",
       " 'ProductNo1_quantity': 5,\n",
       " 'ProductNo1_price': 20000,\n",
       " 'ProductNo1_releaseYear': 2020,\n",
       " 'ProductNo2': 'Laptop',\n",
       " 'ProductNo2_quantity': 10,\n",
       " 'ProductNo2_price': 50000,\n",
       " 'ProductNo2_releaseYear': 2023}"
      ]
     },
     "execution_count": 20,
     "metadata": {},
     "output_type": "execute_result"
    }
   ],
   "source": [
    "inventory"
   ]
  },
  {
   "cell_type": "code",
   "execution_count": 21,
   "id": "ea025815-f1d9-4b98-a3d5-704c276f391d",
   "metadata": {},
   "outputs": [
    {
     "name": "stdout",
     "output_type": "stream",
     "text": [
      "{'ProductNo1': 'Mobile Phone', 'ProductNo1_quantity': 5, 'ProductNo1_price': 20000, 'ProductNo1_releaseYear': 2020, 'ProductNo2': 'Laptop', 'ProductNo2_quantity': 10, 'ProductNo2_price': 50000, 'ProductNo2_releaseYear': 2023}\n"
     ]
    }
   ],
   "source": [
    "print(inventory)"
   ]
  },
  {
   "cell_type": "code",
   "execution_count": 22,
   "id": "3e573b9f-b8c1-4783-906d-19001cdc6fb8",
   "metadata": {},
   "outputs": [
    {
     "name": "stdout",
     "output_type": "stream",
     "text": [
      "True\n"
     ]
    }
   ],
   "source": [
    "print(\"ProductNo1_releaseYear\" in inventory)"
   ]
  },
  {
   "cell_type": "code",
   "execution_count": 23,
   "id": "08cd4905-5475-4986-ab53-3a7b96a527d3",
   "metadata": {},
   "outputs": [
    {
     "name": "stdout",
     "output_type": "stream",
     "text": [
      "False\n"
     ]
    }
   ],
   "source": [
    "print(\"ProductN3_releaseYear\" in inventory)"
   ]
  },
  {
   "cell_type": "code",
   "execution_count": 24,
   "id": "47e29191-ffbf-4904-8a6e-02bc7ce0cd0f",
   "metadata": {},
   "outputs": [
    {
     "ename": "KeyError",
     "evalue": "'ProductNo1_releaseYear'",
     "output_type": "error",
     "traceback": [
      "\u001b[31m---------------------------------------------------------------------------\u001b[39m",
      "\u001b[31mKeyError\u001b[39m                                  Traceback (most recent call last)",
      "\u001b[36mCell\u001b[39m\u001b[36m \u001b[39m\u001b[32mIn[24]\u001b[39m\u001b[32m, line 2\u001b[39m\n\u001b[32m      1\u001b[39m \u001b[38;5;28;01mdel\u001b[39;00m(inventory[\u001b[33m\"\u001b[39m\u001b[33mProductNo1_releaseYear\u001b[39m\u001b[33m\"\u001b[39m])\n\u001b[32m----> \u001b[39m\u001b[32m2\u001b[39m \u001b[38;5;28;01mdel\u001b[39;00m(\u001b[43minventory\u001b[49m\u001b[43m[\u001b[49m\u001b[33;43m\"\u001b[39;49m\u001b[33;43mProductNo1_releaseYear\u001b[39;49m\u001b[33;43m\"\u001b[39;49m\u001b[43m]\u001b[49m)\n",
      "\u001b[31mKeyError\u001b[39m: 'ProductNo1_releaseYear'"
     ]
    }
   ],
   "source": [
    "del(inventory[\"ProductNo1_releaseYear\"])\n",
    "del(inventory[\"ProductNo2_releaseYear\"])"
   ]
  },
  {
   "cell_type": "code",
   "execution_count": 25,
   "id": "ae0145d8-9bc3-4ea1-9944-3c60926371ca",
   "metadata": {},
   "outputs": [],
   "source": [
    "del(inventory[\"ProductNo2_releaseYear\"])"
   ]
  },
  {
   "cell_type": "code",
   "execution_count": 26,
   "id": "883e9f63-152c-4817-a18e-b0612a8d58f1",
   "metadata": {},
   "outputs": [
    {
     "data": {
      "text/plain": [
       "{'ProductNo1': 'Mobile Phone',\n",
       " 'ProductNo1_quantity': 5,\n",
       " 'ProductNo1_price': 20000,\n",
       " 'ProductNo2': 'Laptop',\n",
       " 'ProductNo2_quantity': 10,\n",
       " 'ProductNo2_price': 50000}"
      ]
     },
     "execution_count": 26,
     "metadata": {},
     "output_type": "execute_result"
    }
   ],
   "source": [
    "inventory"
   ]
  },
  {
   "cell_type": "code",
   "execution_count": null,
   "id": "dfc2af7a-3936-4e26-a99a-7d88cf9a5e68",
   "metadata": {},
   "outputs": [],
   "source": []
  }
 ],
 "metadata": {
  "kernelspec": {
   "display_name": "Python 3 (ipykernel)",
   "language": "python",
   "name": "python3"
  },
  "language_info": {
   "codemirror_mode": {
    "name": "ipython",
    "version": 3
   },
   "file_extension": ".py",
   "mimetype": "text/x-python",
   "name": "python",
   "nbconvert_exporter": "python",
   "pygments_lexer": "ipython3",
   "version": "3.13.7"
  }
 },
 "nbformat": 4,
 "nbformat_minor": 5
}
