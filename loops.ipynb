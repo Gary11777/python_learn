{
 "cells": [
  {
   "cell_type": "code",
   "execution_count": 1,
   "id": "e0ebb3a1-938c-4866-a5c3-b7090156038f",
   "metadata": {},
   "outputs": [
    {
     "name": "stdout",
     "output_type": "stream",
     "text": [
      "red\n",
      "orange\n",
      "yellow\n",
      "green\n",
      "blue\n",
      "indigo\n",
      "violet\n"
     ]
    }
   ],
   "source": [
    "colors = [\"red\", \"orange\", \"yellow\", \"green\", \"blue\", \"indigo\", \"violet\"]\n",
    "for color in colors:\n",
    "    print(color);"
   ]
  },
  {
   "cell_type": "code",
   "execution_count": 2,
   "id": "0202156a-5d86-426c-9bcc-d72e200a9119",
   "metadata": {},
   "outputs": [
    {
     "name": "stdout",
     "output_type": "stream",
     "text": [
      "0\n",
      "1\n",
      "2\n",
      "3\n",
      "4\n",
      "5\n",
      "6\n",
      "7\n",
      "8\n",
      "9\n",
      "10\n"
     ]
    }
   ],
   "source": [
    "for n in range(0, 11):\n",
    "    print(n);"
   ]
  },
  {
   "cell_type": "code",
   "execution_count": 3,
   "id": "d4e5cac4-5b04-4b37-9189-14aadde4fd57",
   "metadata": {},
   "outputs": [
    {
     "name": "stdout",
     "output_type": "stream",
     "text": [
      "0\n",
      "1\n",
      "2\n",
      "3\n",
      "4\n"
     ]
    }
   ],
   "source": [
    "for n in range(5):\n",
    "    print(n);"
   ]
  },
  {
   "cell_type": "code",
   "execution_count": 10,
   "id": "cefdc271-7854-4438-8222-c9d5b8eb7b65",
   "metadata": {},
   "outputs": [
    {
     "name": "stdout",
     "output_type": "stream",
     "text": [
      "At position 0, I found a apple\n",
      "At position 1, I found a banana\n",
      "At position 2, I found a orange\n"
     ]
    }
   ],
   "source": [
    "fruits = [\"apple\", \"banana\", \"orange\"]\n",
    "for index, fruit in enumerate(fruits):\n",
    "    print(f\"At position {index}, I found a {fruit}\");"
   ]
  },
  {
   "cell_type": "code",
   "execution_count": 15,
   "id": "64519c4a-ece2-4c03-9c5f-dccbccd2a89f",
   "metadata": {},
   "outputs": [
    {
     "name": "stdout",
     "output_type": "stream",
     "text": [
      "1\n",
      "2\n",
      "3\n",
      "4\n",
      "5\n"
     ]
    }
   ],
   "source": [
    "n = 1;\n",
    "while n <= 5:\n",
    "    print(n),\n",
    "    n += 1;"
   ]
  },
  {
   "cell_type": "code",
   "execution_count": 1,
   "id": "0c3aed0d-2998-406c-8a4a-b3e0bd829d15",
   "metadata": {},
   "outputs": [
    {
     "name": "stdout",
     "output_type": "stream",
     "text": [
      "0\n",
      "1\n",
      "2\n"
     ]
    }
   ],
   "source": [
    "dates = [1982, 1980, 1983]\n",
    "for i in range(len(dates)):\n",
    "    print(i);"
   ]
  },
  {
   "cell_type": "code",
   "execution_count": 2,
   "id": "f7353b29-3754-42ac-935e-c66a139ec3f0",
   "metadata": {},
   "outputs": [
    {
     "name": "stdout",
     "output_type": "stream",
     "text": [
      "1982\n",
      "1980\n",
      "1983\n"
     ]
    }
   ],
   "source": [
    "for year in dates:\n",
    "    print(year);"
   ]
  },
  {
   "cell_type": "code",
   "execution_count": 11,
   "id": "145c85ba-a6b9-4c8b-8f28-4058d4a120cb",
   "metadata": {},
   "outputs": [
    {
     "data": {
      "text/plain": [
       "['white', 'black', 'gray', 'orange', 'pink']"
      ]
     },
     "execution_count": 11,
     "metadata": {},
     "output_type": "execute_result"
    }
   ],
   "source": [
    "squares = ['red', 'yellow', 'green', 'purple', 'blue']\n",
    "squares2 = ['white', 'black', 'gray', 'orange', 'pink']\n",
    "\n",
    "for i in range(len(squares)):\n",
    "    squares[i] = squares2[i];\n",
    "squares"
   ]
  },
  {
   "cell_type": "code",
   "execution_count": 12,
   "id": "424f856d-d05e-4818-9a2a-1ba4aeb31680",
   "metadata": {},
   "outputs": [
    {
     "name": "stdout",
     "output_type": "stream",
     "text": [
      "-5\n",
      "-4\n",
      "-3\n",
      "-2\n",
      "-1\n",
      "0\n",
      "1\n",
      "2\n",
      "3\n",
      "4\n",
      "5\n"
     ]
    }
   ],
   "source": [
    "for i in range(-5, 6):\n",
    "    print(i);"
   ]
  },
  {
   "cell_type": "code",
   "execution_count": 13,
   "id": "92afede0-6152-456f-b406-f6cbfe108a46",
   "metadata": {},
   "outputs": [
    {
     "name": "stdout",
     "output_type": "stream",
     "text": [
      "rock\n",
      "R&B\n",
      "Soundtrack\n",
      "R&B\n",
      "soul\n",
      "pop\n"
     ]
    }
   ],
   "source": [
    "Genres=[ 'rock', 'R&B', 'Soundtrack', 'R&B', 'soul', 'pop']\n",
    "for genre in Genres:\n",
    "    print(genre);"
   ]
  },
  {
   "cell_type": "code",
   "execution_count": 14,
   "id": "ccb37196-20f1-4042-965b-e2633b60c0cc",
   "metadata": {},
   "outputs": [
    {
     "name": "stdout",
     "output_type": "stream",
     "text": [
      "red\n",
      "yellow\n",
      "green\n",
      "purple\n",
      "blue\n"
     ]
    }
   ],
   "source": [
    "squares=['red', 'yellow', 'green', 'purple', 'blue']\n",
    "for square in squares:\n",
    "    print(square);"
   ]
  },
  {
   "cell_type": "code",
   "execution_count": 18,
   "id": "ad87c9f9-4a7c-4840-9079-abd25baf40e9",
   "metadata": {},
   "outputs": [
    {
     "name": "stdout",
     "output_type": "stream",
     "text": [
      "10\n",
      "9.5\n",
      "10\n",
      "8\n",
      "7.5\n"
     ]
    }
   ],
   "source": [
    "PlayListRatings = [10, 9.5, 10, 8, 7.5, 5, 10, 10];\n",
    "i = 0;\n",
    "score = PlayListRatings[0];\n",
    "while(i < len(PlayListRatings) and score >= 6):\n",
    "    print(score),\n",
    "    i += 1;\n",
    "    score = PlayListRatings[i];"
   ]
  },
  {
   "cell_type": "code",
   "execution_count": 20,
   "id": "29f377eb-7f83-4923-98ee-925f1a568c84",
   "metadata": {},
   "outputs": [
    {
     "name": "stdout",
     "output_type": "stream",
     "text": [
      "['orange', 'orange', 'purple', 'blue ', 'orange']\n"
     ]
    }
   ],
   "source": [
    "squares = ['orange', 'orange', 'purple', 'blue ', 'orange']\n",
    "new_squares = []\n",
    "i = 0;\n",
    "square = square[0];\n",
    "while(i < len(squares) and square != 'orange'):\n",
    "    new_squares.append(squares[i]),\n",
    "    i += 1;\n",
    "print(new_squares);"
   ]
  },
  {
   "cell_type": "code",
   "execution_count": 23,
   "id": "423cc2b8-8cc6-45bf-88ad-fdc6f404fbf0",
   "metadata": {},
   "outputs": [
    {
     "name": "stdout",
     "output_type": "stream",
     "text": [
      "1\n",
      "2\n",
      "4\n",
      "5\n",
      "7\n",
      "8\n",
      "10\n",
      "11\n"
     ]
    }
   ],
   "source": [
    "for i in range(16):\n",
    "    if i % 3 == 0:\n",
    "        continue\n",
    "    if i > 12:\n",
    "        break\n",
    "    print(i);"
   ]
  },
  {
   "cell_type": "code",
   "execution_count": null,
   "id": "1cf5642b-c3ef-4d68-a1f8-2f709a01d0b4",
   "metadata": {},
   "outputs": [],
   "source": []
  }
 ],
 "metadata": {
  "kernelspec": {
   "display_name": "Python 3 (ipykernel)",
   "language": "python",
   "name": "python3"
  },
  "language_info": {
   "codemirror_mode": {
    "name": "ipython",
    "version": 3
   },
   "file_extension": ".py",
   "mimetype": "text/x-python",
   "name": "python",
   "nbconvert_exporter": "python",
   "pygments_lexer": "ipython3",
   "version": "3.13.7"
  }
 },
 "nbformat": 4,
 "nbformat_minor": 5
}
