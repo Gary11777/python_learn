{
 "cells": [
  {
   "cell_type": "code",
   "execution_count": 1,
   "id": "73634901-997d-4ad4-9adb-2885209a955e",
   "metadata": {},
   "outputs": [
    {
     "name": "stdout",
     "output_type": "stream",
     "text": [
      "3\n"
     ]
    }
   ],
   "source": [
    "def add1(a):\n",
    "    b=a+1;\n",
    "    return b;\n",
    "\n",
    "c = add1(2);\n",
    "\n",
    "print(c);"
   ]
  },
  {
   "cell_type": "code",
   "execution_count": 4,
   "id": "51983c9f-260d-4b17-b23c-cd121f872cce",
   "metadata": {},
   "outputs": [
    {
     "name": "stdout",
     "output_type": "stream",
     "text": [
      "5\n"
     ]
    }
   ],
   "source": [
    "def add2(a):\n",
    "    b=a+1;\n",
    "    return b;\n",
    "\n",
    "c = add2(4);\n",
    "\n",
    "print(c);"
   ]
  },
  {
   "cell_type": "code",
   "execution_count": 5,
   "id": "95473318-5885-435e-b00c-d18226871d2d",
   "metadata": {},
   "outputs": [
    {
     "name": "stdout",
     "output_type": "stream",
     "text": [
      "3\n"
     ]
    }
   ],
   "source": [
    "def add3(a):\n",
    "    \"\"\" add 1 to a \"\"\"\n",
    "    return a + 1;\n",
    "\n",
    "print(add3(2));"
   ]
  },
  {
   "cell_type": "code",
   "execution_count": 6,
   "id": "4af5fc5a-c661-4437-81dc-1af509db4749",
   "metadata": {},
   "outputs": [
    {
     "name": "stdout",
     "output_type": "stream",
     "text": [
      "Help on function add3 in module __main__:\n",
      "\n",
      "add3(a)\n",
      "    add 1 to a\n",
      "\n"
     ]
    }
   ],
   "source": [
    "help(add3);"
   ]
  },
  {
   "cell_type": "code",
   "execution_count": null,
   "id": "20b82910-c82e-4379-9e6a-ebc7b0cb6ee3",
   "metadata": {},
   "outputs": [],
   "source": []
  }
 ],
 "metadata": {
  "kernelspec": {
   "display_name": "Python 3 (ipykernel)",
   "language": "python",
   "name": "python3"
  },
  "language_info": {
   "codemirror_mode": {
    "name": "ipython",
    "version": 3
   },
   "file_extension": ".py",
   "mimetype": "text/x-python",
   "name": "python",
   "nbconvert_exporter": "python",
   "pygments_lexer": "ipython3",
   "version": "3.13.7"
  }
 },
 "nbformat": 4,
 "nbformat_minor": 5
}
